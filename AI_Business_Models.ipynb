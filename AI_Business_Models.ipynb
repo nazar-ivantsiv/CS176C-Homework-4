{
  "nbformat": 4,
  "nbformat_minor": 0,
  "metadata": {
    "colab": {
      "name": "AI Business Models",
      "provenance": [],
      "collapsed_sections": [],
      "include_colab_link": true
    },
    "kernelspec": {
      "name": "python3",
      "display_name": "Python 3"
    }
  },
  "cells": [
    {
      "cell_type": "markdown",
      "metadata": {
        "id": "view-in-github",
        "colab_type": "text"
      },
      "source": [
        "<a href=\"https://colab.research.google.com/github/nazar-ivantsiv/CS176C-Homework-4/blob/master/AI_Business_Models.ipynb\" target=\"_parent\"><img src=\"https://colab.research.google.com/assets/colab-badge.svg\" alt=\"Open In Colab\"/></a>"
      ]
    },
    {
      "cell_type": "code",
      "metadata": {
        "id": "mByu8SWlejwX"
      },
      "source": [
        "import numpy as np\n",
        "import pandas as pd\n",
        "import matplotlib.pyplot as plt"
      ],
      "execution_count": null,
      "outputs": []
    },
    {
      "cell_type": "markdown",
      "metadata": {
        "id": "VTIeyA5Mu231"
      },
      "source": [
        "# Unit prediction economics"
      ]
    },
    {
      "cell_type": "code",
      "metadata": {
        "id": "DDS5HOUpePuU"
      },
      "source": [
        "def return_simple(value, accuracy, mistake_cost):\n",
        "    return value - (1 - accuracy) * mistake_cost"
      ],
      "execution_count": null,
      "outputs": []
    },
    {
      "cell_type": "code",
      "metadata": {
        "id": "bEl2NqywsGMK"
      },
      "source": [
        "def accuracy_simple(value, mistake_cost):\n",
        "    return 1 - value / mistake_cost"
      ],
      "execution_count": null,
      "outputs": []
    },
    {
      "cell_type": "code",
      "metadata": {
        "id": "DHoDYduiqart"
      },
      "source": [
        "def return_confidence(value, accuracy, mistake_cost, conf_split, manual_cost):\n",
        "    return (value - (1 - accuracy) * mistake_cost) * conf_split - (1 - conf_split) * manual_cost"
      ],
      "execution_count": null,
      "outputs": []
    },
    {
      "cell_type": "code",
      "metadata": {
        "id": "CqMj3kgisOJe"
      },
      "source": [
        "def accuracy_confidence(value, mistake_cost, conf_split, manual_cost):\n",
        "    return ((1 - conf_split) * manual_cost) / (conf_split * mistake_cost) - (value / mistake_cost) + 1"
      ],
      "execution_count": null,
      "outputs": []
    },
    {
      "cell_type": "code",
      "metadata": {
        "id": "DsAWx6EKrJT4"
      },
      "source": [
        "VALUE = 5\n",
        "ACCURACY = 0.8\n",
        "MISTAKE_COST = 20"
      ],
      "execution_count": null,
      "outputs": []
    },
    {
      "cell_type": "code",
      "metadata": {
        "colab": {
          "base_uri": "https://localhost:8080/"
        },
        "id": "wnzPxtAcrENm",
        "outputId": "010598ec-6192-4cd2-bd4f-5b9d6fdc6ad7"
      },
      "source": [
        "ret_simple = return_simple(VALUE, \n",
        "              ACCURACY, \n",
        "              MISTAKE_COST)\n",
        "acc_simple = accuracy_simple(VALUE,\n",
        "              MISTAKE_COST)\n",
        "print(ret_simple, acc_simple)"
      ],
      "execution_count": null,
      "outputs": [
        {
          "output_type": "stream",
          "text": [
            "1.0000000000000009 0.75\n"
          ],
          "name": "stdout"
        }
      ]
    },
    {
      "cell_type": "code",
      "metadata": {
        "id": "1hftXda5vhuz"
      },
      "source": [
        "CONF_SPLIT = 0.5\n",
        "MANUAL_COST = 5"
      ],
      "execution_count": null,
      "outputs": []
    },
    {
      "cell_type": "code",
      "metadata": {
        "colab": {
          "base_uri": "https://localhost:8080/"
        },
        "id": "CWtQDBGrqZOE",
        "outputId": "095d103d-a257-4fac-affe-c1ab200f9918"
      },
      "source": [
        "ret_confidence = return_confidence(VALUE, \n",
        "                  ACCURACY, \n",
        "                  MISTAKE_COST, \n",
        "                  CONF_SPLIT, \n",
        "                  MANUAL_COST)\n",
        "acc_confidence = accuracy_confidence(\n",
        "    VALUE, MISTAKE_COST, CONF_SPLIT, MANUAL_COST\n",
        ")\n",
        "print(ret_confidence, acc_confidence)"
      ],
      "execution_count": null,
      "outputs": [
        {
          "output_type": "stream",
          "text": [
            "-1.9999999999999996 1.0\n"
          ],
          "name": "stdout"
        }
      ]
    },
    {
      "cell_type": "code",
      "metadata": {
        "colab": {
          "base_uri": "https://localhost:8080/"
        },
        "id": "sMdRuH6UvMR_",
        "outputId": "425ae725-5ded-4c98-d4e3-f90956c4b324"
      },
      "source": [
        "CONF_SPLIT = 0.75\n",
        "ret_confidence = return_confidence(VALUE, \n",
        "                  ACCURACY, \n",
        "                  MISTAKE_COST, \n",
        "                  CONF_SPLIT, \n",
        "                  MANUAL_COST)\n",
        "acc_confidence = accuracy_confidence(\n",
        "    VALUE, MISTAKE_COST, CONF_SPLIT, MANUAL_COST\n",
        ")\n",
        "print(ret_confidence, acc_confidence)"
      ],
      "execution_count": null,
      "outputs": [
        {
          "output_type": "stream",
          "text": [
            "-0.49999999999999933 0.8333333333333333\n"
          ],
          "name": "stdout"
        }
      ]
    },
    {
      "cell_type": "code",
      "metadata": {
        "colab": {
          "base_uri": "https://localhost:8080/"
        },
        "id": "Yp1cePPOvtl0",
        "outputId": "a4fd9a3b-1ea9-44e5-8930-e10a932f3c17"
      },
      "source": [
        "ACCURACY = 0.85\n",
        "ret_confidence = return_confidence(VALUE, \n",
        "                  ACCURACY, \n",
        "                  MISTAKE_COST, \n",
        "                  CONF_SPLIT, \n",
        "                  MANUAL_COST)\n",
        "acc_confidence = accuracy_confidence(\n",
        "    VALUE, MISTAKE_COST, CONF_SPLIT, MANUAL_COST\n",
        ")\n",
        "print(ret_confidence, acc_confidence)"
      ],
      "execution_count": null,
      "outputs": [
        {
          "output_type": "stream",
          "text": [
            "0.24999999999999956 0.8333333333333333\n"
          ],
          "name": "stdout"
        }
      ]
    },
    {
      "cell_type": "markdown",
      "metadata": {
        "id": "53486Pp7vYZd"
      },
      "source": [
        "# Full scaling model"
      ]
    },
    {
      "cell_type": "code",
      "metadata": {
        "id": "8_k53qdDvZZh"
      },
      "source": [
        "# ---------- TO MANIPULATE: ML CONFIG ----------\n",
        "\n",
        "ACCURACY = 0.85\n",
        "MAX_ACCURACY = 0.99\n",
        "CONF_SPLIT = 0.85\n",
        "\n",
        "# ---------- TO MANIPULATE: PROJECT LOAD AND LENGTH ----------\n",
        "\n",
        "DEV_MONTHS = 12\n",
        "LIVE_MONTHS = 48\n",
        "N_SAMPLES_MONTH = 10000\n",
        "\n",
        "# ---------- BUSINESS CONSTRAINTS ----------\n",
        "\n",
        "VALUE = 5 # minutes\n",
        "MISTAKE_COST = 20 # minutes\n",
        "MANUAL_COST = 5  # minutes\n",
        "SAVED_MINUTE_PRICE_PER_ITEM = 50.0 / 60.0 # $50/h\n",
        "\n",
        "# ---------- CONSTRAINTS ----------\n",
        "\n",
        "AI_TEAM_MONTH_DEV = 10000\n",
        "AI_TEAM_MONTH_LIVE = 2500\n",
        "CLOUD_COMP_MONTH = 2000\n",
        "CLOUD_INFRA_MONTH = 500\n",
        "\n",
        "# ---------- COSTS CONSTRAINTS ----------\n",
        "\n",
        "SUPPORT_PRICE_PER_ITEM = 0.1\n",
        "DATA_COLLECTION_MONTH = N_SAMPLES_MONTH * 0.1 * SUPPORT_PRICE_PER_ITEM # let's say 10% of the load\n",
        "MONITORING_MONTH = N_SAMPLES_MONTH * SUPPORT_PRICE_PER_ITEM # 100 % of the load\n",
        "REGULATORY = 1000 # can be fix price here"
      ],
      "execution_count": null,
      "outputs": []
    },
    {
      "cell_type": "code",
      "metadata": {
        "id": "0yomv756Gx8U"
      },
      "source": [
        "ACCURACY_CHANGE_DEV = np.zeros(DEV_MONTHS)\n",
        "ACCURACY_CHANGE_LIVE = np.linspace(ACCURACY, MAX_ACCURACY, LIVE_MONTHS)"
      ],
      "execution_count": null,
      "outputs": []
    },
    {
      "cell_type": "code",
      "metadata": {
        "id": "3_UbCdNFKnPX"
      },
      "source": [
        "RETURNS_DEV = np.zeros(DEV_MONTHS)\n",
        "RETURNS_LIVE = return_confidence(VALUE, \n",
        "                  ACCURACY_CHANGE_LIVE, \n",
        "                  MISTAKE_COST, \n",
        "                  CONF_SPLIT, \n",
        "                  MANUAL_COST) * N_SAMPLES_MONTH * SAVED_MINUTE_PRICE_PER_ITEM"
      ],
      "execution_count": null,
      "outputs": []
    },
    {
      "cell_type": "code",
      "metadata": {
        "id": "n1slX_PjHkcs"
      },
      "source": [
        "COSTS_DEV = np.array([AI_TEAM_MONTH_DEV + CLOUD_COMP_MONTH + CLOUD_INFRA_MONTH + DATA_COLLECTION_MONTH] * DEV_MONTHS)\n",
        "COSTS_LIVE = np.array([AI_TEAM_MONTH_LIVE + CLOUD_COMP_MONTH + CLOUD_INFRA_MONTH + DATA_COLLECTION_MONTH + MONITORING_MONTH + REGULATORY] * LIVE_MONTHS)"
      ],
      "execution_count": null,
      "outputs": []
    },
    {
      "cell_type": "code",
      "metadata": {
        "id": "O3d12zZ_MMb9"
      },
      "source": [
        "ALL_RETURNS = np.append(RETURNS_DEV, RETURNS_LIVE)\n",
        "ALL_COSTS = np.append(COSTS_DEV, COSTS_LIVE)\n",
        "EQUITY = ALL_RETURNS - ALL_COSTS"
      ],
      "execution_count": null,
      "outputs": []
    },
    {
      "cell_type": "code",
      "metadata": {
        "colab": {
          "base_uri": "https://localhost:8080/",
          "height": 320
        },
        "id": "7tB_zNvXH-fj",
        "outputId": "d6fe0521-ca58-4811-d621-6088080f6ed3"
      },
      "source": [
        "plt.figure(figsize = (15, 5))\n",
        "plt.plot(np.cumsum(EQUITY))\n",
        "plt.show()"
      ],
      "execution_count": null,
      "outputs": [
        {
          "output_type": "display_data",
          "data": {
            "image/png": "[encoded data removed]",
            "text/plain": [
              "<Figure size 1080x360 with 1 Axes>"
            ]
          },
          "metadata": {
            "tags": [],
            "needs_background": "light"
          }
        }
      ]
    }
  ]
}